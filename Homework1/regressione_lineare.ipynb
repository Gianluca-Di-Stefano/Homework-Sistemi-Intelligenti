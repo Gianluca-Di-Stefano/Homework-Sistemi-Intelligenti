{
  "nbformat": 4,
  "nbformat_minor": 0,
  "metadata": {
    "colab": {
      "name": "regressione-lineare",
      "provenance": [],
      "collapsed_sections": []
    },
    "kernelspec": {
      "name": "python3",
      "display_name": "Python 3"
    },
    "language_info": {
      "name": "python"
    }
  },
  "cells": [
    {
      "cell_type": "markdown",
      "metadata": {
        "id": "VX0Yzx49aiFJ"
      },
      "source": [
        "# DEF FUNCTIONS"
      ]
    },
    {
      "cell_type": "markdown",
      "metadata": {
        "id": "-fNeUBNLN4_m"
      },
      "source": [
        "Import librerie utili e funzioni create"
      ]
    },
    {
      "cell_type": "code",
      "metadata": {
        "id": "Gk7ibGGSaqrZ"
      },
      "source": [
        "import numpy as np\n",
        "import pandas as pd\n",
        "import matplotlib.pyplot as plt\n",
        "\n",
        "def costFunction(X, y, theta, var_lambda) :\n",
        "  m = y.size\n",
        "  h = np.dot(X, theta)\n",
        "  squaredErrors = (h-y)**2\n",
        "  thetaNoZeros = np.copy(theta)\n",
        "  thetaNoZeros[0] = 0\n",
        "  J = (1/(2*m)) * sum(squaredErrors) + var_lambda/(2*m)*sum(thetaNoZeros**2);\n",
        "  return J\n",
        "\n",
        "def gradientDescent(X, y, theta, alpha, num_iters, var_lambda) :\n",
        "  m = y.size\n",
        "  J_history = np.zeros(num_iters)\n",
        "  theta_history = np.zeros((num_iters,len(theta)));\n",
        "  for iter in range(num_iters) :\n",
        "    h = np.dot(X, theta)\n",
        "    # theta calcolata con regolarizzazione(Se var_lambda è 0 non c'è regolarizzazione)\n",
        "    theta = theta*(1-alpha*var_lambda/m) - (alpha/m)*np.dot(np.transpose(X), (h-y))\n",
        "    J_history[iter] = costFunction(X, y, theta, var_lambda)\n",
        "    theta_history[iter, :] = theta;\n",
        "  return theta, J_history, theta_history\n",
        "\n",
        "\n",
        "def featureNormalize(X) :  \n",
        "  X_norm = X\n",
        "  mu = X.mean(0)\n",
        "  sigma = X.std(0)\n",
        "  r,c = X.shape\n",
        "  i = 1\n",
        "  for i in range(c) :\n",
        "    X_norm[:, i] = ((X[:,i] - mu[i]) / sigma[i]);\n",
        "  return X_norm, mu, sigma"
      ],
      "execution_count": 28,
      "outputs": []
    },
    {
      "cell_type": "markdown",
      "metadata": {
        "id": "h8__OS7CZqWc"
      },
      "source": [
        "# IMPORT DATASET"
      ]
    },
    {
      "cell_type": "markdown",
      "metadata": {
        "id": "7cXWV1XXN6ZX"
      },
      "source": [
        "Dataset scelto: SCUOLA"
      ]
    },
    {
      "cell_type": "code",
      "metadata": {
        "id": "62oZqtrkXY3k",
        "colab": {
          "base_uri": "https://localhost:8080/"
        },
        "outputId": "4686f2ac-712e-4c04-ff88-1edc7161894c"
      },
      "source": [
        "import numpy as np\n",
        "import pandas as pd\n",
        "\n",
        "df = pd.read_csv('https://raw.githubusercontent.com/Gianluca-Di-Stefano/Homework-Sistemi-Intelligenti/main/Homework1/student-mat.csv')\n",
        "X = df.iloc[:, 0:32]\n",
        "y = df[\"G3\"]\n",
        "m,n = X.shape\n",
        "print(\"Dataset importato\")"
      ],
      "execution_count": 35,
      "outputs": [
        {
          "output_type": "stream",
          "name": "stdout",
          "text": [
            "Dataset importato\n"
          ]
        }
      ]
    },
    {
      "cell_type": "markdown",
      "metadata": {
        "id": "WO9_-nVQZghj"
      },
      "source": [
        "# PLOT DATA"
      ]
    },
    {
      "cell_type": "code",
      "metadata": {
        "id": "OZnqOjhFvLev"
      },
      "source": [
        "sexColumn = X.loc[:, [\"sex\"]]\n",
        "ageColumn = X.loc[:, [\"age\"]]\n",
        "fjobColumn = X.loc[:, [\"Fjob\"]]\n",
        "num_teacher = int((fjobColumn[fjobColumn[\"Fjob\"] == 4]).count())\n",
        "num_healt = int((fjobColumn[fjobColumn[\"Fjob\"] == 3]).count())\n",
        "num_service = int((fjobColumn[fjobColumn[\"Fjob\"] == 2]).count())\n",
        "num_atHome = int((fjobColumn[fjobColumn[\"Fjob\"] == 1]).count())\n",
        "num_other = int((fjobColumn[fjobColumn[\"Fjob\"] == 0]).count())\n",
        "num_donne = int((sexColumn[sexColumn[\"sex\"] == 1]).count())\n",
        "num_uomini = int(sexColumn.count()) - num_donne\n",
        "num_maggiorenni = int((ageColumn[ageColumn[\"age\"] >= 18]).count())\n",
        "num_minorenni = int(ageColumn.count()) - num_maggiorenni\n",
        "print(\"Donne: \", num_donne)\n",
        "print(\"Uomini: \", num_uomini)\n",
        "plt.pie([num_uomini, num_donne], labels=[\"M\", \"F\"])\n",
        "plt.suptitle('NUMERO DI UOMINI E DONNE')\n",
        "plt.show()\n",
        "print(\"Maggiorenni: \", num_maggiorenni)\n",
        "print(\"MInorenni: \", num_minorenni)\n",
        "plt.pie([num_maggiorenni, num_minorenni], labels=[\"Maggiorenni\", \"Minorenni\"])\n",
        "plt.suptitle('NUMERO DI MAGGIORENNI E MINORENNI')\n",
        "plt.show()\n",
        "plt.pie([num_teacher, num_healt, num_service, num_atHome, num_other], labels=[\"Teacher\", \"Healt\", \"Services\", \"Home\", \"Other\"])\n",
        "plt.suptitle('LAVORO PADRE')\n",
        "plt.show()"
      ],
      "execution_count": null,
      "outputs": []
    },
    {
      "cell_type": "markdown",
      "metadata": {
        "id": "xpmf5dcZZxnm"
      },
      "source": [
        "# FEATURES GENERATION (OPZIONALE)"
      ]
    },
    {
      "cell_type": "markdown",
      "metadata": {
        "id": "yelJXGZnJp4q"
      },
      "source": [
        "Sezione in cui si possono creare nuove features da aggiungere a quelle già presenti"
      ]
    },
    {
      "cell_type": "code",
      "metadata": {
        "id": "pzrPjXtpVoqA"
      },
      "source": [
        ""
      ],
      "execution_count": null,
      "outputs": []
    },
    {
      "cell_type": "markdown",
      "metadata": {
        "id": "uxaM4cktZ4-V"
      },
      "source": [
        "# FEATURES NORMALIZING"
      ]
    },
    {
      "cell_type": "code",
      "metadata": {
        "id": "2sMyJqP3VvMf",
        "colab": {
          "base_uri": "https://localhost:8080/"
        },
        "outputId": "fbe75d4c-dbba-49d1-81f2-fd26b219938f"
      },
      "source": [
        "X_numpy = X.to_numpy(dtype=float)\n",
        "X_numpy, mu, sigma = featureNormalize(X_numpy)\n",
        "X_numpy = np.insert(X_numpy,0,1, axis=1)\n",
        "m,n = X_numpy.shape\n",
        "y_numpy = y.to_numpy(dtype=float)\n",
        "print(\"Normalizzazione features...\")"
      ],
      "execution_count": 37,
      "outputs": [
        {
          "output_type": "stream",
          "name": "stdout",
          "text": [
            "Normalizzazione features...\n"
          ]
        }
      ]
    },
    {
      "cell_type": "markdown",
      "metadata": {
        "id": "HA-cEMViaOQc"
      },
      "source": [
        "# LEARNING PARAMETERS"
      ]
    },
    {
      "cell_type": "code",
      "metadata": {
        "id": "j8xhggIwV4da",
        "colab": {
          "base_uri": "https://localhost:8080/"
        },
        "outputId": "3cac2a75-aab2-404f-f9ff-e8f3b7ff2e87"
      },
      "source": [
        "alpha = 0.08\n",
        "iterations = 500\n",
        "# var_lambda = 0 non utlilizza la REGOLARIZZAZIONE\n",
        "var_lambda = 0\n",
        "theta_init = np.zeros(n)\n",
        "print(\"Parametri di learning scelti:\")\n",
        "print(\"Alpha: \", alpha)\n",
        "print(\"Iterazioni: \", iterations)\n",
        "print(\"Lambda: \", var_lambda)"
      ],
      "execution_count": 38,
      "outputs": [
        {
          "output_type": "stream",
          "name": "stdout",
          "text": [
            "Parametri di learning scelti:\n",
            "Alpha:  0.08\n",
            "Iterazioni:  500\n",
            "Lambda:  0\n"
          ]
        }
      ]
    },
    {
      "cell_type": "markdown",
      "metadata": {
        "id": "WBaAmkXDaS0p"
      },
      "source": [
        "# TEST CODE WITH CONVERGENCE GRAPH"
      ]
    },
    {
      "cell_type": "code",
      "metadata": {
        "id": "LEOaElpyWApX",
        "colab": {
          "base_uri": "https://localhost:8080/",
          "height": 308
        },
        "outputId": "edb42cfe-23f9-4c8c-c926-9141e43ac9d4"
      },
      "source": [
        "theta, J_history ,theta_history = gradientDescent(X_numpy, y_numpy, theta_init, alpha, iterations, var_lambda)\n",
        "iterations_history = np.arange(iterations);\n",
        "plt.plot(iterations_history, J_history);\n",
        "plt.suptitle('GRAFICO DI CONVERGENZA FUNZIONE DI COSTO')\n",
        "plt.xlabel(\"# iterations\")\n",
        "plt.ylabel(\"Cost J\")\n",
        "plt.show()\n"
      ],
      "execution_count": 40,
      "outputs": [
        {
          "output_type": "display_data",
          "data": {
            "image/png": "[encoded data removed]",
            "text/plain": [
              "<Figure size 432x288 with 1 Axes>"
            ]
          },
          "metadata": {
            "needs_background": "light"
          }
        }
      ]
    },
    {
      "cell_type": "markdown",
      "metadata": {
        "id": "f7xmEIDdaW32"
      },
      "source": [
        "# PREDICTIONS"
      ]
    },
    {
      "cell_type": "code",
      "metadata": {
        "id": "tzSYXR_RWHNI",
        "colab": {
          "base_uri": "https://localhost:8080/"
        },
        "outputId": "71540f9b-e16c-4884-f66d-ac17473e160a"
      },
      "source": [
        "num_esempi = 10\n",
        "#ESEMPI SCELTI: I PRIMI 10 ESEMPI DEL DATASET\n",
        "esempi = X_numpy[0:num_esempi, :];\n",
        "predictions = np.round(np.dot(esempi, theta));\n",
        "error = (predictions - y[0:num_esempi]).to_numpy()\n",
        "absError = abs(error)\n",
        "for i in range(predictions.size) :\n",
        "  print(\"-----------------------------------\")\n",
        "  print(\"Prediction esempio \", i, \" : \", predictions[i])\n",
        "  print(\"errore: \", error[i])\n",
        "  print(\"errore assoluto: \", absError[i])"
      ],
      "execution_count": 41,
      "outputs": [
        {
          "output_type": "stream",
          "name": "stdout",
          "text": [
            "-----------------------------------\n",
            "Prediction esempio  0  :  5.0\n",
            "errore:  -1.0\n",
            "errore assoluto:  1.0\n",
            "-----------------------------------\n",
            "Prediction esempio  1  :  4.0\n",
            "errore:  -2.0\n",
            "errore assoluto:  2.0\n",
            "-----------------------------------\n",
            "Prediction esempio  2  :  8.0\n",
            "errore:  -2.0\n",
            "errore assoluto:  2.0\n",
            "-----------------------------------\n",
            "Prediction esempio  3  :  14.0\n",
            "errore:  -1.0\n",
            "errore assoluto:  1.0\n",
            "-----------------------------------\n",
            "Prediction esempio  4  :  9.0\n",
            "errore:  -1.0\n",
            "errore assoluto:  1.0\n",
            "-----------------------------------\n",
            "Prediction esempio  5  :  16.0\n",
            "errore:  1.0\n",
            "errore assoluto:  1.0\n",
            "-----------------------------------\n",
            "Prediction esempio  6  :  12.0\n",
            "errore:  1.0\n",
            "errore assoluto:  1.0\n",
            "-----------------------------------\n",
            "Prediction esempio  7  :  5.0\n",
            "errore:  -1.0\n",
            "errore assoluto:  1.0\n",
            "-----------------------------------\n",
            "Prediction esempio  8  :  19.0\n",
            "errore:  0.0\n",
            "errore assoluto:  0.0\n",
            "-----------------------------------\n",
            "Prediction esempio  9  :  15.0\n",
            "errore:  0.0\n",
            "errore assoluto:  0.0\n"
          ]
        }
      ]
    }
  ]
}