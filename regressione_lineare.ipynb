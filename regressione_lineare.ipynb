{
  "nbformat": 4,
  "nbformat_minor": 0,
  "metadata": {
    "colab": {
      "name": "regressione-lineare",
      "provenance": [],
      "collapsed_sections": []
    },
    "kernelspec": {
      "name": "python3",
      "display_name": "Python 3"
    },
    "language_info": {
      "name": "python"
    }
  },
  "cells": [
    {
      "cell_type": "markdown",
      "metadata": {
        "id": "VX0Yzx49aiFJ"
      },
      "source": [
        "# DEF FUNCTIONS"
      ]
    },
    {
      "cell_type": "markdown",
      "metadata": {
        "id": "-fNeUBNLN4_m"
      },
      "source": [
        "Import librerie utili e funzioni create"
      ]
    },
    {
      "cell_type": "code",
      "metadata": {
        "id": "Gk7ibGGSaqrZ"
      },
      "source": [
        "import numpy as np\n",
        "import pandas as pd\n",
        "import matplotlib.pyplot as plt\n",
        "\n",
        "def costFunction(X, y, theta, var_lambda) :\n",
        "  m = y.size\n",
        "  h = np.dot(X, theta)\n",
        "  squaredErrors = (h-y)**2\n",
        "  thetaNoZeros = np.copy(theta)\n",
        "  thetaNoZeros[0] = 0\n",
        "  J = (1/(2*m)) * sum(squaredErrors) + var_lambda/(2*m)*sum(thetaNoZeros**2);\n",
        "  return J\n",
        "\n",
        "def gradientDescent(X, y, theta, alpha, num_iters, var_lambda) :\n",
        "  m = y.size\n",
        "  J_history = np.zeros(num_iters)\n",
        "  theta_history = np.zeros((num_iters,len(theta)));\n",
        "  for iter in range(num_iters) :\n",
        "    h = np.dot(X, theta)\n",
        "    # theta calcolata con regolarizzazione(Se var_lambda è 0 non c'è regolarizzazione)\n",
        "    theta = theta*(1-alpha*var_lambda/m) - (alpha/m)*np.dot(np.transpose(X), (h-y))\n",
        "    J_history[iter] = costFunction(X, y, theta, var_lambda)\n",
        "    theta_history[iter, :] = theta;\n",
        "  return theta, J_history, theta_history\n",
        "\n",
        "\n",
        "def featureNormalize(X) :  \n",
        "  X_norm = X\n",
        "  mu = X.mean(0)\n",
        "  sigma = X.std(0)\n",
        "  r,c = X.shape\n",
        "  i = 1\n",
        "  for i in range(c) :\n",
        "    X_norm[:, i] = ((X[:,i] - mu[i]) / sigma[i]);\n",
        "  return X_norm, mu, sigma"
      ],
      "execution_count": 13,
      "outputs": []
    },
    {
      "cell_type": "markdown",
      "metadata": {
        "id": "h8__OS7CZqWc"
      },
      "source": [
        "# IMPORT DATASET"
      ]
    },
    {
      "cell_type": "markdown",
      "metadata": {
        "id": "7cXWV1XXN6ZX"
      },
      "source": [
        "Dataset scelto: SCUOLA"
      ]
    },
    {
      "cell_type": "code",
      "metadata": {
        "id": "62oZqtrkXY3k",
        "colab": {
          "base_uri": "https://localhost:8080/"
        },
        "outputId": "7a83a4db-d78c-47b4-e44a-edb1530ea774"
      },
      "source": [
        "import numpy as np\n",
        "import pandas as pd\n",
        "\n",
        "df = pd.read_csv('https://raw.githubusercontent.com/Gianluca-Di-Stefano/Homework-Sistemi-Intelligenti/main/student-mat.csv')\n",
        "X = df.iloc[:, 0:32]\n",
        "y = df[\"G3\"]\n",
        "m,n = X.shape\n",
        "print(\"Dataset importato\")"
      ],
      "execution_count": 3,
      "outputs": [
        {
          "output_type": "stream",
          "name": "stdout",
          "text": [
            "Dataset importato\n"
          ]
        }
      ]
    },
    {
      "cell_type": "markdown",
      "metadata": {
        "id": "WO9_-nVQZghj"
      },
      "source": [
        "# PLOT DATA"
      ]
    },
    {
      "cell_type": "code",
      "metadata": {
        "id": "OZnqOjhFvLev",
        "colab": {
          "base_uri": "https://localhost:8080/",
          "height": 871
        },
        "outputId": "5e7c9169-35f2-4020-b129-b0d43b59810f"
      },
      "source": [
        "sexColumn = X.loc[:, [\"sex\"]]\n",
        "ageColumn = X.loc[:, [\"age\"]]\n",
        "fjobColumn = X.loc[:, [\"Fjob\"]]\n",
        "num_teacher = int((fjobColumn[fjobColumn[\"Fjob\"] == 4]).count())\n",
        "num_healt = int((fjobColumn[fjobColumn[\"Fjob\"] == 3]).count())\n",
        "num_service = int((fjobColumn[fjobColumn[\"Fjob\"] == 2]).count())\n",
        "num_atHome = int((fjobColumn[fjobColumn[\"Fjob\"] == 1]).count())\n",
        "num_other = int((fjobColumn[fjobColumn[\"Fjob\"] == 0]).count())\n",
        "num_donne = int((sexColumn[sexColumn[\"sex\"] == 1]).count())\n",
        "num_uomini = int(sexColumn.count()) - num_donne\n",
        "num_maggiorenni = int((ageColumn[ageColumn[\"age\"] >= 18]).count())\n",
        "num_minorenni = int(ageColumn.count()) - num_maggiorenni\n",
        "print(\"Donne: \", num_donne)\n",
        "print(\"Uomini: \", num_uomini)\n",
        "plt.pie([num_uomini, num_donne], labels=[\"M\", \"F\"])\n",
        "plt.suptitle('NUMERO DI UOMINI E DONNE')\n",
        "plt.show()\n",
        "print(\"Maggiorenni: \", num_maggiorenni)\n",
        "print(\"MInorenni: \", num_minorenni)\n",
        "plt.pie([num_maggiorenni, num_minorenni], labels=[\"Maggiorenni\", \"Minorenni\"])\n",
        "plt.suptitle('NUMERO DI MAGGIORENNI E MINORENNI')\n",
        "plt.show()\n",
        "plt.pie([num_teacher, num_healt, num_service, num_atHome, num_other], labels=[\"Teacher\", \"Healt\", \"Services\", \"Home\", \"Other\"])\n",
        "plt.suptitle('LAVORO PADRE')\n",
        "plt.show()"
      ],
      "execution_count": 98,
      "outputs": [
        {
          "output_type": "stream",
          "name": "stdout",
          "text": [
            "Donne:  208\n",
            "Uomini:  187\n"
          ]
        },
        {
          "output_type": "display_data",
          "data": {
            "image/png": "[encoded data removed]",
            "text/plain": [
              "<Figure size 432x288 with 1 Axes>"
            ]
          },
          "metadata": {}
        },
        {
          "output_type": "stream",
          "name": "stdout",
          "text": [
            "Maggiorenni:  111\n",
            "MInorenni:  284\n"
          ]
        },
        {
          "output_type": "display_data",
          "data": {
            "image/png": "[encoded data removed]",
            "text/plain": [
              "<Figure size 432x288 with 1 Axes>"
            ]
          },
          "metadata": {}
        },
        {
          "output_type": "display_data",
          "data": {
            "image/png": "[encoded data removed]",
            "text/plain": [
              "<Figure size 432x288 with 1 Axes>"
            ]
          },
          "metadata": {}
        }
      ]
    },
    {
      "cell_type": "markdown",
      "metadata": {
        "id": "xpmf5dcZZxnm"
      },
      "source": [
        "# FEATURES GENERATION (OPZIONALE)"
      ]
    },
    {
      "cell_type": "markdown",
      "metadata": {
        "id": "yelJXGZnJp4q"
      },
      "source": [
        "Sezione in cui si possono creare nuove features da aggiungere a quelle già presenti"
      ]
    },
    {
      "cell_type": "code",
      "metadata": {
        "id": "pzrPjXtpVoqA"
      },
      "source": [
        ""
      ],
      "execution_count": null,
      "outputs": []
    },
    {
      "cell_type": "markdown",
      "metadata": {
        "id": "uxaM4cktZ4-V"
      },
      "source": [
        "# FEATURES NORMALIZING"
      ]
    },
    {
      "cell_type": "code",
      "metadata": {
        "id": "2sMyJqP3VvMf",
        "colab": {
          "base_uri": "https://localhost:8080/"
        },
        "outputId": "793c56ac-5030-4e01-b908-bf77d7e567ab"
      },
      "source": [
        "X_numpy = X.to_numpy(dtype=float)\n",
        "X_numpy, mu, sigma = featureNormalize(X_numpy)\n",
        "X_numpy = np.insert(X_numpy,0,1, axis=1)\n",
        "m,n = X_numpy.shape\n",
        "y_numpy = y.to_numpy(dtype=float)\n",
        "print(\"Normalizzazione features...\")"
      ],
      "execution_count": 14,
      "outputs": [
        {
          "output_type": "stream",
          "name": "stdout",
          "text": [
            "Normalizzazione features...\n"
          ]
        }
      ]
    },
    {
      "cell_type": "markdown",
      "metadata": {
        "id": "HA-cEMViaOQc"
      },
      "source": [
        "# LEARNING PARAMETERS"
      ]
    },
    {
      "cell_type": "code",
      "metadata": {
        "id": "j8xhggIwV4da",
        "colab": {
          "base_uri": "https://localhost:8080/"
        },
        "outputId": "46c0c755-ddeb-4150-a162-84cc60cb49cf"
      },
      "source": [
        "alpha = 0.08\n",
        "iterations = 500\n",
        "# var_lambda = 0 non utlilizza la REGOLARIZZAZIONE\n",
        "var_lambda = 0\n",
        "theta_init = np.zeros(n)\n",
        "print(\"Parametri di learning scelti:\")\n",
        "print(\"Alpha: \", alpha)\n",
        "print(\"Iterazioni: \", iterations)\n",
        "print(\"Lambda: \", var_lambda)"
      ],
      "execution_count": 26,
      "outputs": [
        {
          "output_type": "stream",
          "name": "stdout",
          "text": [
            "Parametri di learning scelti:\n",
            "Alpha:  0.08\n",
            "Iterazioni:  500\n",
            "Lambda:  0\n"
          ]
        }
      ]
    },
    {
      "cell_type": "markdown",
      "metadata": {
        "id": "WBaAmkXDaS0p"
      },
      "source": [
        "# TEST CODE WITH CONVERGENCE GRAPH"
      ]
    },
    {
      "cell_type": "code",
      "metadata": {
        "id": "LEOaElpyWApX",
        "colab": {
          "base_uri": "https://localhost:8080/",
          "height": 1000
        },
        "outputId": "92ca94b5-1a08-4e91-e037-0656d792b2e9"
      },
      "source": [
        "theta, J_history ,theta_history = gradientDescent(X_numpy, y_numpy, theta_init, alpha, iterations, var_lambda)\n",
        "iterations_history = np.arange(iterations);\n",
        "plt.plot(iterations_history, J_history);\n",
        "plt.suptitle('GRAFICO DI CONVERGENZA FUNZIONE DI COSTO')\n",
        "plt.xlabel(\"# iterations\")\n",
        "plt.ylabel(\"Cost J\")\n",
        "plt.show()\n",
        "print(J_history)\n"
      ],
      "execution_count": 27,
      "outputs": [
        {
          "output_type": "display_data",
          "data": {
            "image/png": "[encoded data removed]",
            "text/plain": [
              "<Figure size 432x288 with 1 Axes>"
            ]
          },
          "metadata": {
            "needs_background": "light"
          }
        },
        {
          "output_type": "stream",
          "name": "stdout",
          "text": [
            "[53.55573921 44.7452449  37.64561324 31.84324701 27.05351935 23.07185681\n",
            " 19.74551434 16.9568248  14.61291121 12.63911403 10.97461012  9.56936642\n",
            "  8.38193682  7.37781347  6.52815794  5.80880271  5.19945203  4.683034\n",
            "  4.2451703   3.87373893  3.55851183  3.29085314  3.06346731  2.87018818\n",
            "  2.70580206  2.56589905  2.44674805  2.34519135  2.25855593  2.18457851\n",
            "  2.12134238  2.06722397  2.02084781  1.98104835  1.94683777  1.91737871\n",
            "  1.89196122  1.86998326  1.85093416  1.8343807   1.81995525  1.80734576\n",
            "  1.79628731  1.7865549   1.77795737  1.77033229  1.76354154  1.75746766\n",
            "  1.75201071  1.7470856   1.74261985  1.73855168  1.73482842  1.73140509\n",
            "  1.7282433   1.72531021  1.72257772  1.72002177  1.71762173  1.71535986\n",
            "  1.71322094  1.71119184  1.70926124  1.70741937  1.70565776  1.70396907\n",
            "  1.70234691  1.70078572  1.69928065  1.69782742  1.6964223   1.69506199\n",
            "  1.69374358  1.69246446  1.69122235  1.69001518  1.6888411   1.68769846\n",
            "  1.68658574  1.68550159  1.68444476  1.68341412  1.68240863  1.68142732\n",
            "  1.68046931  1.67953377  1.67861993  1.67772709  1.67685455  1.6760017\n",
            "  1.67516794  1.6743527   1.67355544  1.67277568  1.67201291  1.67126668\n",
            "  1.67053655  1.66982211  1.66912293  1.66843865  1.66776888  1.66711327\n",
            "  1.66647146  1.66584314  1.66522797  1.66462564  1.66403585  1.66345831\n",
            "  1.66289274  1.66233885  1.6617964   1.66126511  1.66074474  1.66023503\n",
            "  1.65973577  1.65924671  1.65876762  1.6582983   1.65783853  1.65738809\n",
            "  1.6569468   1.65651444  1.65609084  1.6556758   1.65526914  1.65487068\n",
            "  1.65448025  1.65409768  1.6537228   1.65335545  1.65299548  1.65264273\n",
            "  1.65229704  1.65195827  1.65162629  1.65130094  1.65098209  1.6506696\n",
            "  1.65036335  1.65006321  1.64976904  1.64948074  1.64919817  1.64892122\n",
            "  1.64864977  1.64838373  1.64812296  1.64786737  1.64761685  1.6473713\n",
            "  1.64713061  1.6468947   1.64666346  1.64643679  1.64621461  1.64599682\n",
            "  1.64578335  1.64557409  1.64536896  1.64516789  1.64497079  1.64477758\n",
            "  1.64458818  1.64440252  1.64422052  1.64404211  1.64386721  1.64369576\n",
            "  1.64352769  1.64336293  1.64320142  1.64304308  1.64288786  1.64273569\n",
            "  1.64258652  1.64244028  1.64229692  1.64215638  1.64201859  1.64188352\n",
            "  1.6417511   1.64162128  1.64149401  1.64136924  1.64124693  1.64112701\n",
            "  1.64100944  1.64089419  1.64078119  1.64067041  1.64056181  1.64045533\n",
            "  1.64035095  1.64024861  1.64014827  1.64004991  1.63995347  1.63985892\n",
            "  1.63976622  1.63967534  1.63958625  1.63949889  1.63941325  1.63932929\n",
            "  1.63924697  1.63916626  1.63908713  1.63900955  1.63893349  1.63885892\n",
            "  1.63878581  1.63871413  1.63864385  1.63857495  1.63850739  1.63844116\n",
            "  1.63837622  1.63831256  1.63825014  1.63818894  1.63812893  1.6380701\n",
            "  1.63801242  1.63795587  1.63790043  1.63784607  1.63779277  1.63774051\n",
            "  1.63768928  1.63763904  1.63758979  1.6375415   1.63749416  1.63744774\n",
            "  1.63740222  1.6373576   1.63731385  1.63727095  1.6372289   1.63718766\n",
            "  1.63714723  1.63710759  1.63706872  1.63703061  1.63699325  1.63695662\n",
            "  1.6369207   1.63688549  1.63685096  1.63681711  1.63678391  1.63675137\n",
            "  1.63671946  1.63668818  1.6366575   1.63662743  1.63659794  1.63656903\n",
            "  1.63654068  1.63651288  1.63648563  1.63645891  1.63643272  1.63640703\n",
            "  1.63638185  1.63635715  1.63633294  1.6363092   1.63628593  1.63626311\n",
            "  1.63624073  1.63621879  1.63619728  1.63617619  1.63615552  1.63613524\n",
            "  1.63611536  1.63609587  1.63607676  1.63605802  1.63603965  1.63602164\n",
            "  1.63600397  1.63598666  1.63596968  1.63595303  1.63593671  1.6359207\n",
            "  1.63590501  1.63588963  1.63587454  1.63585975  1.63584525  1.63583103\n",
            "  1.63581708  1.63580341  1.63579001  1.63577687  1.63576398  1.63575135\n",
            "  1.63573896  1.63572682  1.63571491  1.63570323  1.63569178  1.63568056\n",
            "  1.63566955  1.63565876  1.63564818  1.63563781  1.63562763  1.63561766\n",
            "  1.63560788  1.63559829  1.63558889  1.63557968  1.63557064  1.63556178\n",
            "  1.63555309  1.63554457  1.63553622  1.63552803  1.63552     1.63551212\n",
            "  1.6355044   1.63549683  1.63548941  1.63548213  1.635475    1.635468\n",
            "  1.63546115  1.63545442  1.63544783  1.63544136  1.63543502  1.63542881\n",
            "  1.63542271  1.63541674  1.63541088  1.63540513  1.6353995   1.63539398\n",
            "  1.63538856  1.63538325  1.63537805  1.63537294  1.63536794  1.63536303\n",
            "  1.63535822  1.6353535   1.63534888  1.63534434  1.63533989  1.63533553\n",
            "  1.63533126  1.63532707  1.63532296  1.63531893  1.63531498  1.6353111\n",
            "  1.6353073   1.63530358  1.63529993  1.63529635  1.63529284  1.63528939\n",
            "  1.63528602  1.63528271  1.63527947  1.63527628  1.63527317  1.63527011\n",
            "  1.63526711  1.63526417  1.63526129  1.63525846  1.63525569  1.63525297\n",
            "  1.63525031  1.63524769  1.63524513  1.63524262  1.63524016  1.63523774\n",
            "  1.63523537  1.63523305  1.63523078  1.63522855  1.63522636  1.63522421\n",
            "  1.63522211  1.63522005  1.63521802  1.63521604  1.6352141   1.63521219\n",
            "  1.63521032  1.63520849  1.63520669  1.63520493  1.6352032   1.63520151\n",
            "  1.63519985  1.63519822  1.63519662  1.63519506  1.63519352  1.63519202\n",
            "  1.63519054  1.6351891   1.63518768  1.63518629  1.63518492  1.63518359\n",
            "  1.63518227  1.63518099  1.63517973  1.63517849  1.63517728  1.63517609\n",
            "  1.63517493  1.63517379  1.63517267  1.63517157  1.63517049  1.63516944\n",
            "  1.6351684   1.63516739  1.63516639  1.63516541  1.63516446  1.63516352\n",
            "  1.6351626   1.6351617   1.63516081  1.63515995  1.6351591   1.63515826\n",
            "  1.63515745  1.63515664  1.63515586  1.63515509  1.63515433  1.63515359\n",
            "  1.63515287  1.63515216  1.63515146  1.63515077  1.6351501   1.63514944\n",
            "  1.6351488   1.63514817  1.63514755  1.63514694  1.63514634  1.63514576\n",
            "  1.63514518  1.63514462  1.63514407  1.63514353  1.635143    1.63514248\n",
            "  1.63514197  1.63514147  1.63514098  1.6351405   1.63514003  1.63513957\n",
            "  1.63513912  1.63513867  1.63513824  1.63513781  1.63513739  1.63513698\n",
            "  1.63513658  1.63513619  1.6351358   1.63513542  1.63513505  1.63513468\n",
            "  1.63513433  1.63513398  1.63513363  1.6351333   1.63513297  1.63513264\n",
            "  1.63513233  1.63513201  1.63513171  1.63513141  1.63513112  1.63513083\n",
            "  1.63513055  1.63513027  1.63513     1.63512973  1.63512947  1.63512922\n",
            "  1.63512897  1.63512872]\n"
          ]
        }
      ]
    },
    {
      "cell_type": "markdown",
      "metadata": {
        "id": "f7xmEIDdaW32"
      },
      "source": [
        "# PREDICTIONS"
      ]
    },
    {
      "cell_type": "code",
      "metadata": {
        "id": "tzSYXR_RWHNI",
        "colab": {
          "base_uri": "https://localhost:8080/"
        },
        "outputId": "9d669aa0-aa17-4233-ce48-ca9598ce2dd0"
      },
      "source": [
        "num_esempi = 10\n",
        "#ESEMPI SCELTI: I PRIMI 10 ESEMPI DEL DATASET\n",
        "esempi = X_numpy[0:num_esempi, :];\n",
        "predictions = np.round(np.dot(esempi, theta));\n",
        "error = (predictions - y[0:num_esempi]).to_numpy()\n",
        "absError = abs(error)\n",
        "for i in range(predictions.size) :\n",
        "  print(\"-----------------------------------\")\n",
        "  print(\"Prediction esempio \", i, \" : \", predictions[i])\n",
        "  print(\"errore: \", error[i])\n",
        "  print(\"errore assoluto: \", absError[i])"
      ],
      "execution_count": 36,
      "outputs": [
        {
          "output_type": "stream",
          "name": "stdout",
          "text": [
            "-----------------------------------\n",
            "Prediction esempio  0  :  5.0\n",
            "errore:  -1.0\n",
            "errore assoluto:  1.0\n",
            "-----------------------------------\n",
            "Prediction esempio  1  :  4.0\n",
            "errore:  -2.0\n",
            "errore assoluto:  2.0\n",
            "-----------------------------------\n",
            "Prediction esempio  2  :  8.0\n",
            "errore:  -2.0\n",
            "errore assoluto:  2.0\n",
            "-----------------------------------\n",
            "Prediction esempio  3  :  14.0\n",
            "errore:  -1.0\n",
            "errore assoluto:  1.0\n",
            "-----------------------------------\n",
            "Prediction esempio  4  :  9.0\n",
            "errore:  -1.0\n",
            "errore assoluto:  1.0\n",
            "-----------------------------------\n",
            "Prediction esempio  5  :  16.0\n",
            "errore:  1.0\n",
            "errore assoluto:  1.0\n",
            "-----------------------------------\n",
            "Prediction esempio  6  :  12.0\n",
            "errore:  1.0\n",
            "errore assoluto:  1.0\n",
            "-----------------------------------\n",
            "Prediction esempio  7  :  5.0\n",
            "errore:  -1.0\n",
            "errore assoluto:  1.0\n",
            "-----------------------------------\n",
            "Prediction esempio  8  :  19.0\n",
            "errore:  0.0\n",
            "errore assoluto:  0.0\n",
            "-----------------------------------\n",
            "Prediction esempio  9  :  15.0\n",
            "errore:  0.0\n",
            "errore assoluto:  0.0\n"
          ]
        }
      ]
    }
  ]
}