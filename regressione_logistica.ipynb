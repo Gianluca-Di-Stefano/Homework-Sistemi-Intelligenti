{
  "nbformat": 4,
  "nbformat_minor": 0,
  "metadata": {
    "colab": {
      "name": "regressione-logistica",
      "provenance": [],
      "collapsed_sections": []
    },
    "kernelspec": {
      "name": "python3",
      "display_name": "Python 3"
    },
    "language_info": {
      "name": "python"
    }
  },
  "cells": [
    {
      "cell_type": "markdown",
      "metadata": {
        "id": "VX0Yzx49aiFJ"
      },
      "source": [
        "# DEF FUNCTIONS"
      ]
    },
    {
      "cell_type": "markdown",
      "metadata": {
        "id": "uNXrMncxMBvL"
      },
      "source": [
        "Import librerie utili e funzioni create"
      ]
    },
    {
      "cell_type": "code",
      "metadata": {
        "id": "Gk7ibGGSaqrZ"
      },
      "source": [
        "import numpy as np\n",
        "import pandas as pd\n",
        "import math\n",
        "import matplotlib.pyplot as plt\n",
        "\n",
        "def sigmoid(z) :\n",
        "  g = 1 / (1+np.exp(-1*z));\n",
        "  return g\n",
        "\n",
        "def costFunction(X, y, theta, var_lambda) :\n",
        "  m = y.size\n",
        "  h = sigmoid(np.dot(X, theta))\n",
        "  cost = -y * np.log(h) - (1-y) * np.log(1-h)\n",
        "  thetaNoZeros = np.copy(theta)\n",
        "  thetaNoZeros[0] = 0\n",
        "  J = (1 / m) * sum(cost) + var_lambda/(2*m)*sum(thetaNoZeros**2)\n",
        "  grad = (1/m) * np.dot(np.transpose(X), (h-y))\n",
        "  return J\n",
        "\n",
        "def gradientDescent(X, y, theta, alpha, num_iters, var_lambda) :\n",
        "  m = y.size\n",
        "  J_history = np.zeros(num_iters)\n",
        "  for iter in range(num_iters) :\n",
        "    h = sigmoid(np.dot(X, theta))\n",
        "    theta =  theta*(1-alpha*var_lambda/m) - (alpha/m)*np.dot(np.transpose(X), (h-y))\n",
        "    J_history[iter] = costFunction(X, y, theta, var_lambda)\n",
        "  return theta, J_history\n",
        "\n",
        "def featureNormalize(X) :  \n",
        "  X_norm = X\n",
        "  mu = X.mean(0)\n",
        "  sigma = X.std(0)\n",
        "  r,c = X.shape\n",
        "  i = 1\n",
        "  for i in range(c) :\n",
        "    X_norm[:, i] = ((X[:,i] - mu[i]) / sigma[i]);\n",
        "  return X_norm, mu, sigma"
      ],
      "execution_count": 7,
      "outputs": []
    },
    {
      "cell_type": "markdown",
      "metadata": {
        "id": "h8__OS7CZqWc"
      },
      "source": [
        "# IMPORT DATASET"
      ]
    },
    {
      "cell_type": "markdown",
      "metadata": {
        "id": "UbwxUCofNri4"
      },
      "source": [
        "Dataset scelto: TITANIC"
      ]
    },
    {
      "cell_type": "code",
      "metadata": {
        "id": "62oZqtrkXY3k",
        "colab": {
          "base_uri": "https://localhost:8080/"
        },
        "outputId": "596a366f-b7fe-445d-c816-26bfd02e6993"
      },
      "source": [
        "import numpy as np\n",
        "import pandas as pd\n",
        "\n",
        "df = pd.read_csv('https://raw.githubusercontent.com/Gianluca-Di-Stefano/Homework-Sistemi-Intelligenti/main/titanicTrain.csv')\n",
        "X = df.iloc[:, 1:4]\n",
        "y = df[\"Survived\"]\n",
        "m,n = X.shape\n",
        "print(\"Dataset importato\")\n"
      ],
      "execution_count": 42,
      "outputs": [
        {
          "output_type": "stream",
          "name": "stdout",
          "text": [
            "Dataset importato\n"
          ]
        }
      ]
    },
    {
      "cell_type": "markdown",
      "metadata": {
        "id": "WO9_-nVQZghj"
      },
      "source": [
        "# PLOT DATA"
      ]
    },
    {
      "cell_type": "code",
      "metadata": {
        "id": "OZnqOjhFvLev"
      },
      "source": [
        "import matplotlib.pyplot as plt\n",
        "\n",
        "classColumn = X.loc[:, [\"Pclass\"]]\n",
        "num_firstClass = int((classColumn[classColumn[\"Pclass\"] == 1]).count())\n",
        "num_SecondClass = int((classColumn[classColumn[\"Pclass\"] == 2]).count())\n",
        "num_thirdClass = int((classColumn[classColumn[\"Pclass\"] == 3]).count())\n",
        "print(\"Prima classe: \", num_firstClass)\n",
        "print(\"Seconda classe: \", num_SecondClass)\n",
        "print(\"Terza classe: \", num_thirdClass)\n",
        "plt.pie([num_firstClass, num_SecondClass, num_thirdClass], labels=[\"1C\", \"2C\", \"3C\"])\n",
        "plt.suptitle('CLASSI TITANIC')\n",
        "plt.show()\n",
        "survived = df[df[\"Survived\"]==1].groupby([\"Pclass\"])[\"Survived\"].count().reset_index();\n",
        "survived['notSurvived'] = df[df[\"Survived\"]==0].groupby([\"Pclass\"])[\"Survived\"].count().reset_index().Survived;\n",
        "survived[['notSurvived','Survived']].plot.bar()"
      ],
      "execution_count": null,
      "outputs": []
    },
    {
      "cell_type": "markdown",
      "metadata": {
        "id": "xpmf5dcZZxnm"
      },
      "source": [
        "# FEATURES GENERATION (OPZIONALE)"
      ]
    },
    {
      "cell_type": "markdown",
      "metadata": {
        "id": "XqeXwFGUOGQ0"
      },
      "source": [
        "Sezione in cui si possono creare nuove features da aggiungere a quelle già presenti"
      ]
    },
    {
      "cell_type": "code",
      "metadata": {
        "id": "pzrPjXtpVoqA"
      },
      "source": [
        ""
      ],
      "execution_count": 49,
      "outputs": []
    },
    {
      "cell_type": "markdown",
      "metadata": {
        "id": "uxaM4cktZ4-V"
      },
      "source": [
        "# FEATURES NORMALIZING"
      ]
    },
    {
      "cell_type": "code",
      "metadata": {
        "id": "2sMyJqP3VvMf",
        "colab": {
          "base_uri": "https://localhost:8080/"
        },
        "outputId": "0140e369-550c-4632-d492-36c164c252d4"
      },
      "source": [
        "X_numpy = X.to_numpy(dtype=float)\n",
        "#ESEMPI PER LE PREDICTIONS\n",
        "esempi = np.array([[1, 0, 30], [2, 0, 30], [3, 0, 30], [1, 1, 30], [2, 1, 30], [3, 1, 30], [3, 0, 10], [3, 0, 20], [3, 0, 80]], dtype=float);\n",
        "X_numpy, mu, sigma = featureNormalize(X_numpy)\n",
        "esempi_numpy, mu, sigma = featureNormalize(esempi)\n",
        "X_numpy = np.insert(X_numpy,0,1, axis=1)\n",
        "esempi_numpy = np.insert(esempi_numpy,0,1, axis=1)\n",
        "m,n = X_numpy.shape\n",
        "y_numpy = y.to_numpy(dtype=float)\n",
        "print(\"Normalizzazione features...\")"
      ],
      "execution_count": 9,
      "outputs": [
        {
          "output_type": "stream",
          "name": "stdout",
          "text": [
            "Normalizzazione features...\n"
          ]
        }
      ]
    },
    {
      "cell_type": "markdown",
      "metadata": {
        "id": "HA-cEMViaOQc"
      },
      "source": [
        "# LEARNING PARAMETERS"
      ]
    },
    {
      "cell_type": "code",
      "metadata": {
        "id": "j8xhggIwV4da",
        "colab": {
          "base_uri": "https://localhost:8080/"
        },
        "outputId": "8c3ae0f1-3923-414e-fb2f-8cdec68e11e8"
      },
      "source": [
        "alpha = 0.007\n",
        "iterations = 5000\n",
        "#var_lambda = 0, NO REGOLARIZZAZIONE\n",
        "var_lambda = 0\n",
        "theta_init = np.zeros(n)\n",
        "print(\"Parametri di learning scelti:\")\n",
        "print(\"Alpha: \", alpha)\n",
        "print(\"Iterazioni: \", iterations)\n",
        "print(\"Lambda: \", var_lambda)"
      ],
      "execution_count": 14,
      "outputs": [
        {
          "output_type": "stream",
          "name": "stdout",
          "text": [
            "Parametri di learning scelti:\n",
            "Alpha:  0.007\n",
            "Iterazioni:  5000\n",
            "Lambda:  0\n"
          ]
        }
      ]
    },
    {
      "cell_type": "markdown",
      "metadata": {
        "id": "WBaAmkXDaS0p"
      },
      "source": [
        "# TEST CODE WITH CONVERGENCE GRAPH"
      ]
    },
    {
      "cell_type": "code",
      "metadata": {
        "id": "LEOaElpyWApX",
        "colab": {
          "base_uri": "https://localhost:8080/",
          "height": 331
        },
        "outputId": "2e48883a-8441-483c-a0c9-4344981fe1c5"
      },
      "source": [
        "theta, J_history = gradientDescent(X_numpy, y_numpy, theta_init, alpha, iterations, var_lambda)\n",
        "iterations_history = np.arange(iterations);\n",
        "plt.plot(iterations_history, J_history);\n",
        "plt.suptitle('GRAFICO DI CONVERGENZA FUNZIONE DI COSTO')\n",
        "plt.show()\n",
        "J_history\n",
        "\n"
      ],
      "execution_count": 16,
      "outputs": [
        {
          "output_type": "display_data",
          "data": {
            "image/png": "[encoded data removed]",
            "text/plain": [
              "<Figure size 432x288 with 1 Axes>"
            ]
          },
          "metadata": {
            "needs_background": "light"
          }
        },
        {
          "output_type": "execute_result",
          "data": {
            "text/plain": [
              "array([0.69236765, 0.69159113, 0.6908176 , ..., 0.45349602, 0.45349581,\n",
              "       0.4534956 ])"
            ]
          },
          "metadata": {},
          "execution_count": 16
        }
      ]
    },
    {
      "cell_type": "markdown",
      "metadata": {
        "id": "f7xmEIDdaW32"
      },
      "source": [
        "# PREDICTIONS"
      ]
    },
    {
      "cell_type": "code",
      "metadata": {
        "id": "tzSYXR_RWHNI",
        "colab": {
          "base_uri": "https://localhost:8080/"
        },
        "outputId": "c744a2a2-2128-4c92-c44c-cbcedb3ef283"
      },
      "source": [
        "predictions = np.round(sigmoid(np.dot(esempi_numpy, theta)));\n",
        "\n",
        "for i in range(predictions.size) :\n",
        "  print(\"-----------------------------------\")\n",
        "  print(\"Prediction esempio \", i, \" : \", predictions[i])"
      ],
      "execution_count": 148,
      "outputs": [
        {
          "output_type": "stream",
          "name": "stdout",
          "text": [
            "-----------------------------------\n",
            "Prediction esempio  0  :  1.0\n",
            "-----------------------------------\n",
            "Prediction esempio  1  :  0.0\n",
            "-----------------------------------\n",
            "Prediction esempio  2  :  0.0\n",
            "-----------------------------------\n",
            "Prediction esempio  3  :  1.0\n",
            "-----------------------------------\n",
            "Prediction esempio  4  :  1.0\n",
            "-----------------------------------\n",
            "Prediction esempio  5  :  1.0\n",
            "-----------------------------------\n",
            "Prediction esempio  6  :  0.0\n",
            "-----------------------------------\n",
            "Prediction esempio  7  :  0.0\n",
            "-----------------------------------\n",
            "Prediction esempio  8  :  0.0\n"
          ]
        }
      ]
    }
  ]
}